{
 "cells": [
  {
   "cell_type": "code",
   "execution_count": 10,
   "metadata": {},
   "outputs": [],
   "source": [
    "# импорт библиотек и задание тестовых данных\n",
    "\n",
    "import pandas as pd\n",
    "\n",
    "df = pd.DataFrame(\n",
    "     {\n",
    "         \"a\": pd.Series([1, 2, 3], dtype=\"int64\"),\n",
    "         \"b\": pd.Series([\"x\", \"y\", \"z\"], dtype=\"str\"),\n",
    "         \"c\": pd.Series([True, False, None], dtype=\"boolean\"),\n",
    "         \"d\": pd.Series([\"18.240.000,00\",\"11.366.070,34\",\"5.100.000,00\",\"1.558.062,00\",\"2.313.643,20\",\"937.315,44\",\"837.364,63\",\"153.600,00\",], dtype=\"str\"),\n",
    "         \"e\": pd.Series([10, None, 20], dtype=\"float64\"),\n",
    "         \"f\": pd.Series([None, 100.5, 200], dtype=\"float64\"),\n",
    "     }\n",
    ")\n",
    "\n"
   ]
  },
  {
   "cell_type": "code",
   "execution_count": 9,
   "metadata": {},
   "outputs": [
    {
     "name": "stdout",
     "output_type": "stream",
     "text": [
      "a    float64\n",
      "b     object\n",
      "c    boolean\n",
      "d    Float64\n",
      "e    float64\n",
      "f    float64\n",
      "dtype: object\n",
      "     a    b      c            d     e      f\n",
      "0  1.0    x   True   18240000.0  10.0    NaN\n",
      "1  2.0    y  False  11366070.34   NaN  100.5\n",
      "2  3.0    z   <NA>    5100000.0  20.0  200.0\n",
      "3  NaN  NaN   <NA>    1558062.0   NaN    NaN\n",
      "4  NaN  NaN   <NA>    2313643.2   NaN    NaN\n",
      "5  NaN  NaN   <NA>    937315.44   NaN    NaN\n",
      "6  NaN  NaN   <NA>    837364.63   NaN    NaN\n",
      "7  NaN  NaN   <NA>     153600.0   NaN    NaN\n",
      "a    float64\n",
      "b     object\n",
      "c    boolean\n",
      "d    Float64\n",
      "e    float64\n",
      "f    float64\n",
      "dtype: object\n",
      "     a    b      c            d     e      f\n",
      "0  1.0    x   True   18240000.0  10.0    NaN\n",
      "1  2.0    y  False  11366070.34   NaN  100.5\n",
      "2  3.0    z   <NA>    5100000.0  20.0  200.0\n",
      "3  NaN  NaN   <NA>    1558062.0   NaN    NaN\n",
      "4  NaN  NaN   <NA>    2313643.2   NaN    NaN\n",
      "5  NaN  NaN   <NA>    937315.44   NaN    NaN\n",
      "6  NaN  NaN   <NA>    837364.63   NaN    NaN\n",
      "7  NaN  NaN   <NA>     153600.0   NaN    NaN\n"
     ]
    }
   ],
   "source": [
    "# Пример преобразования данных\n",
    "\n",
    "print(df.dtypes)\n",
    "print (df)\n",
    "\n",
    "df[[\"d\"]] = (\n",
    "    df[[\"d\"]]\n",
    "    .replace({r\"\\.\": \"\", \",\": \".\"}, regex=True)\n",
    "    .astype(\"Float64\")\n",
    ")\n",
    "\n",
    "\n",
    "print(df.dtypes)\n",
    "print (df)"
   ]
  }
 ],
 "metadata": {
  "kernelspec": {
   "display_name": "Python 3",
   "language": "python",
   "name": "python3"
  },
  "language_info": {
   "codemirror_mode": {
    "name": "ipython",
    "version": 3
   },
   "file_extension": ".py",
   "mimetype": "text/x-python",
   "name": "python",
   "nbconvert_exporter": "python",
   "pygments_lexer": "ipython3",
   "version": "3.10.13"
  }
 },
 "nbformat": 4,
 "nbformat_minor": 2
}
